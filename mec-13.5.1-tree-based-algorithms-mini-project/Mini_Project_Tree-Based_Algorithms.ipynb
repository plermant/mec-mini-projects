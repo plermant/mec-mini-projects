{
 "cells": [
  {
   "cell_type": "markdown",
   "metadata": {},
   "source": [
    "# Mini Project: Tree-Based Algorithms"
   ]
  },
  {
   "cell_type": "markdown",
   "metadata": {},
   "source": [
    "## The \"German Credit\" Dataset"
   ]
  },
  {
   "cell_type": "markdown",
   "metadata": {},
   "source": [
    "Also, since you want to be able to present the results of your model, we suggest you take a look at the tutorial for accuracy metrics for classification models (http://scikit-learn.org/stable/modules/model_evaluation.html#classification-report) as well as the more detailed documentation (http://scikit-learn.org/stable/modules/generated/sklearn.metrics.classification_report.html).\n",
    "\n",
    "Finally, an *amazing* resource that explains the various classification model accuracy metrics, as well as the relationships between them, can be found on Wikipedia: https://en.wikipedia.org/wiki/Confusion_matrix"
   ]
  },
  {
   "cell_type": "markdown",
   "metadata": {},
   "source": [
    "### Now we pass the torch onto you! You can start building your first Decision Tree model! :)"
   ]
  },
  {
   "cell_type": "code",
   "execution_count": 663,
   "metadata": {},
   "outputs": [],
   "source": [
    "import pandas as pd\n",
    "import sklearn.metrics as metrics\n",
    "from sklearn.tree import DecisionTreeClassifier\n",
    "from sklearn.metrics import classification_report\n",
    "from sklearn.model_selection import train_test_split\n",
    "from sklearn.model_selection import GridSearchCV, KFold\n",
    "from sklearn.ensemble import RandomForestClassifier\n",
    "import time\n",
    "from dtreeviz.trees import *\n",
    "\n",
    "import catboost\n",
    "from catboost import CatBoostClassifier\n",
    "\n",
    "from dataprep.eda import plot as dataplot\n",
    "\n",
    "from sklearn.inspection import permutation_importance"
   ]
  },
  {
   "cell_type": "code",
   "execution_count": 664,
   "metadata": {},
   "outputs": [
    {
     "data": {
      "text/html": [
       "<div>\n",
       "<style scoped>\n",
       "    .dataframe tbody tr th:only-of-type {\n",
       "        vertical-align: middle;\n",
       "    }\n",
       "\n",
       "    .dataframe tbody tr th {\n",
       "        vertical-align: top;\n",
       "    }\n",
       "\n",
       "    .dataframe thead th {\n",
       "        text-align: right;\n",
       "    }\n",
       "</style>\n",
       "<table border=\"1\" class=\"dataframe\">\n",
       "  <thead>\n",
       "    <tr style=\"text-align: right;\">\n",
       "      <th></th>\n",
       "      <th>Duration</th>\n",
       "      <th>Amount</th>\n",
       "      <th>InstallmentRatePercentage</th>\n",
       "      <th>ResidenceDuration</th>\n",
       "      <th>Age</th>\n",
       "      <th>NumberExistingCredits</th>\n",
       "      <th>NumberPeopleMaintenance</th>\n",
       "      <th>Telephone</th>\n",
       "      <th>ForeignWorker</th>\n",
       "      <th>Class</th>\n",
       "      <th>...</th>\n",
       "      <th>OtherInstallmentPlans.Bank</th>\n",
       "      <th>OtherInstallmentPlans.Stores</th>\n",
       "      <th>OtherInstallmentPlans.None</th>\n",
       "      <th>Housing.Rent</th>\n",
       "      <th>Housing.Own</th>\n",
       "      <th>Housing.ForFree</th>\n",
       "      <th>Job.UnemployedUnskilled</th>\n",
       "      <th>Job.UnskilledResident</th>\n",
       "      <th>Job.SkilledEmployee</th>\n",
       "      <th>Job.Management.SelfEmp.HighlyQualified</th>\n",
       "    </tr>\n",
       "  </thead>\n",
       "  <tbody>\n",
       "    <tr>\n",
       "      <th>0</th>\n",
       "      <td>6</td>\n",
       "      <td>1169</td>\n",
       "      <td>4</td>\n",
       "      <td>4</td>\n",
       "      <td>67</td>\n",
       "      <td>2</td>\n",
       "      <td>1</td>\n",
       "      <td>0</td>\n",
       "      <td>1</td>\n",
       "      <td>Good</td>\n",
       "      <td>...</td>\n",
       "      <td>0</td>\n",
       "      <td>0</td>\n",
       "      <td>1</td>\n",
       "      <td>0</td>\n",
       "      <td>1</td>\n",
       "      <td>0</td>\n",
       "      <td>0</td>\n",
       "      <td>0</td>\n",
       "      <td>1</td>\n",
       "      <td>0</td>\n",
       "    </tr>\n",
       "    <tr>\n",
       "      <th>1</th>\n",
       "      <td>48</td>\n",
       "      <td>5951</td>\n",
       "      <td>2</td>\n",
       "      <td>2</td>\n",
       "      <td>22</td>\n",
       "      <td>1</td>\n",
       "      <td>1</td>\n",
       "      <td>1</td>\n",
       "      <td>1</td>\n",
       "      <td>Bad</td>\n",
       "      <td>...</td>\n",
       "      <td>0</td>\n",
       "      <td>0</td>\n",
       "      <td>1</td>\n",
       "      <td>0</td>\n",
       "      <td>1</td>\n",
       "      <td>0</td>\n",
       "      <td>0</td>\n",
       "      <td>0</td>\n",
       "      <td>1</td>\n",
       "      <td>0</td>\n",
       "    </tr>\n",
       "    <tr>\n",
       "      <th>2</th>\n",
       "      <td>12</td>\n",
       "      <td>2096</td>\n",
       "      <td>2</td>\n",
       "      <td>3</td>\n",
       "      <td>49</td>\n",
       "      <td>1</td>\n",
       "      <td>2</td>\n",
       "      <td>1</td>\n",
       "      <td>1</td>\n",
       "      <td>Good</td>\n",
       "      <td>...</td>\n",
       "      <td>0</td>\n",
       "      <td>0</td>\n",
       "      <td>1</td>\n",
       "      <td>0</td>\n",
       "      <td>1</td>\n",
       "      <td>0</td>\n",
       "      <td>0</td>\n",
       "      <td>1</td>\n",
       "      <td>0</td>\n",
       "      <td>0</td>\n",
       "    </tr>\n",
       "    <tr>\n",
       "      <th>3</th>\n",
       "      <td>42</td>\n",
       "      <td>7882</td>\n",
       "      <td>2</td>\n",
       "      <td>4</td>\n",
       "      <td>45</td>\n",
       "      <td>1</td>\n",
       "      <td>2</td>\n",
       "      <td>1</td>\n",
       "      <td>1</td>\n",
       "      <td>Good</td>\n",
       "      <td>...</td>\n",
       "      <td>0</td>\n",
       "      <td>0</td>\n",
       "      <td>1</td>\n",
       "      <td>0</td>\n",
       "      <td>0</td>\n",
       "      <td>1</td>\n",
       "      <td>0</td>\n",
       "      <td>0</td>\n",
       "      <td>1</td>\n",
       "      <td>0</td>\n",
       "    </tr>\n",
       "    <tr>\n",
       "      <th>4</th>\n",
       "      <td>24</td>\n",
       "      <td>4870</td>\n",
       "      <td>3</td>\n",
       "      <td>4</td>\n",
       "      <td>53</td>\n",
       "      <td>2</td>\n",
       "      <td>2</td>\n",
       "      <td>1</td>\n",
       "      <td>1</td>\n",
       "      <td>Bad</td>\n",
       "      <td>...</td>\n",
       "      <td>0</td>\n",
       "      <td>0</td>\n",
       "      <td>1</td>\n",
       "      <td>0</td>\n",
       "      <td>0</td>\n",
       "      <td>1</td>\n",
       "      <td>0</td>\n",
       "      <td>0</td>\n",
       "      <td>1</td>\n",
       "      <td>0</td>\n",
       "    </tr>\n",
       "  </tbody>\n",
       "</table>\n",
       "<p>5 rows × 62 columns</p>\n",
       "</div>"
      ],
      "text/plain": [
       "   Duration  Amount  InstallmentRatePercentage  ResidenceDuration  Age  \\\n",
       "0         6    1169                          4                  4   67   \n",
       "1        48    5951                          2                  2   22   \n",
       "2        12    2096                          2                  3   49   \n",
       "3        42    7882                          2                  4   45   \n",
       "4        24    4870                          3                  4   53   \n",
       "\n",
       "   NumberExistingCredits  NumberPeopleMaintenance  Telephone  ForeignWorker  \\\n",
       "0                      2                        1          0              1   \n",
       "1                      1                        1          1              1   \n",
       "2                      1                        2          1              1   \n",
       "3                      1                        2          1              1   \n",
       "4                      2                        2          1              1   \n",
       "\n",
       "  Class  ...  OtherInstallmentPlans.Bank  OtherInstallmentPlans.Stores  \\\n",
       "0  Good  ...                           0                             0   \n",
       "1   Bad  ...                           0                             0   \n",
       "2  Good  ...                           0                             0   \n",
       "3  Good  ...                           0                             0   \n",
       "4   Bad  ...                           0                             0   \n",
       "\n",
       "   OtherInstallmentPlans.None  Housing.Rent  Housing.Own  Housing.ForFree  \\\n",
       "0                           1             0            1                0   \n",
       "1                           1             0            1                0   \n",
       "2                           1             0            1                0   \n",
       "3                           1             0            0                1   \n",
       "4                           1             0            0                1   \n",
       "\n",
       "   Job.UnemployedUnskilled  Job.UnskilledResident  Job.SkilledEmployee  \\\n",
       "0                        0                      0                    1   \n",
       "1                        0                      0                    1   \n",
       "2                        0                      1                    0   \n",
       "3                        0                      0                    1   \n",
       "4                        0                      0                    1   \n",
       "\n",
       "   Job.Management.SelfEmp.HighlyQualified  \n",
       "0                                       0  \n",
       "1                                       0  \n",
       "2                                       0  \n",
       "3                                       0  \n",
       "4                                       0  \n",
       "\n",
       "[5 rows x 62 columns]"
      ]
     },
     "execution_count": 664,
     "metadata": {},
     "output_type": "execute_result"
    }
   ],
   "source": [
    "df=pd.read_csv(\"GermanCredit.csv\")\n",
    "#df.info()\n",
    "df.head()\n",
    "#dataplot(df)"
   ]
  },
  {
   "cell_type": "code",
   "execution_count": 665,
   "metadata": {},
   "outputs": [
    {
     "name": "stdout",
     "output_type": "stream",
     "text": [
      "1    700\n",
      "0    300\n",
      "Name: Class, dtype: int64\n"
     ]
    }
   ],
   "source": [
    "#basic pre-processing\n",
    "df.replace({\"Good\":1,\"Bad\":0}, inplace=True)\n",
    "#print(df.describe())\n",
    "print(df.Class.value_counts())"
   ]
  },
  {
   "cell_type": "code",
   "execution_count": 666,
   "metadata": {},
   "outputs": [],
   "source": [
    "def modelSearchResults(cv,mainMetric,params,scoring): #print all the results from grid or random search\n",
    "    cv_results_df=pd.DataFrame(cv.cv_results_)\n",
    "    tmp=\"rank_test_\"+mainMetric\n",
    "    bestRow=cv_results_df[cv_results_df[tmp]==1]\n",
    "    bestRowIndex=bestRow.index[0]\n",
    "    print(\"Iteration number for best\",mainMetric,\":\",bestRowIndex)\n",
    "    print(\"\\nParameters for model with best\",mainMetric,\"from possible values:\\n\",params,\":\\n\")\n",
    "    for key in params.keys():\n",
    "        val=bestRow['params'][bestRowIndex][key]\n",
    "        if isinstance(val, str) != True: val=round(float(val),3)\n",
    "        print(key,\"value:\",val)\n",
    "    print(\"\\nMetrics for model with best\",mainMetric,\" from set of\",scoring,\":\\n\")\n",
    "    for key in scoring:\n",
    "        tmp=\"mean_test_\"+key\n",
    "        print(tmp,\"value:\",round(float(bestRow[tmp][bestRowIndex]),3))    \n",
    "    y_pred = cv.best_estimator_.predict(X_validate)\n",
    "    testFit=round(float(bestRow[\"mean_test_\"+mainMetric][bestRowIndex]),3)\n",
    "    if mainMetric == \"precision\" : validationFit=round(metrics.precision_score(y_validate, y_pred),3)\n",
    "    if mainMetric == \"accuracy\" : validationFit=round(metrics.accuracy_score(y_validate, y_pred),3)\n",
    "    if mainMetric == \"recall\" : validationFit=round(metrics.recall_score(y_validate, y_pred),3)\n",
    "    if mainMetric == \"matthews_corrcoef\" : validationFit=round(metrics.matthews_corrcoef(y_validate, y_pred),3)\n",
    "    if mainMetric == \"roc_auc\" : validationFit=round(metrics.roc_auc_score(y_validate, y_pred),3)\n",
    "    print(\"\\n\",mainMetric,\"on validation set is\",validationFit,\"to be compared with test\",mainMetric,\"of\",testFit,\", a\",round(100.0*float(abs(validationFit-testFit)/testFit),1),\"percent difference\" )\n",
    "\n",
    "    return [testFit,validationFit]"
   ]
  },
  {
   "cell_type": "code",
   "execution_count": 667,
   "metadata": {},
   "outputs": [],
   "source": [
    "#global parameters\n",
    "# we'll report on 5 metric:, accuracy, MCC, ROC AUC, precision and recall\n",
    "# First let's set aside some data for final validation\n",
    "finalValidationPercent=0.25\n",
    "randomSeed=0\n",
    "mainMetric=\"matthews_corrcoef\"\n",
    "mainMetricPermTreshold=0.01 # Will select (and remove) features that are below this threshold thru permutation\n",
    "permutationFeatureDrop={} # {selectorName:[set of features below threashold],}\n",
    "verbose=0\n",
    "doViz=0 # 1 or 0, 0 to skip\n",
    "\n",
    "scoring=[\"accuracy\", \"precision\", \"recall\", \"matthews_corrcoef\", \"roc_auc\"]\n",
    "#simple decision tree params\n",
    "dtParams={\"criterion\":[\"entropy\"],\"max_depth\":[10,20,50,100,250],\"max_leaf_nodes\":[10,50,250,1000,2500,10000]}\n",
    "allResults={} #{classifier:{metricValues:[test,valid],'processTime':value,'bestEstimator':value,...}\n",
    "\n",
    "#randomForest params\n",
    "randomForestParameters = {'n_estimators': [100,200],\"criterion\":[\"entropy\"],\"max_depth\":[10,20,50,100,250],\"max_leaf_nodes\":[10,50,250,1000,2500,10000]}\n",
    "#randomForestParameters = {'n_estimators': [10],\"criterion\":[\"entropy\"],\"max_depth\":[10,20],\"max_leaf_nodes\":[50,250,1000]} #testing only\n",
    "\n",
    "#catBoost params\n",
    "catBoostParameters = {'depth': [6,8],'iterations': [100,350,1000],'learning_rate': [0.02, 0.03, 0.04]}\n",
    "#catBoostParameters = {'depth': [4,6],'iterations': [100],'learning_rate': [0.03]} #testing only"
   ]
  },
  {
   "cell_type": "code",
   "execution_count": 668,
   "metadata": {},
   "outputs": [],
   "source": [
    "#Split train/test and validate\n",
    "y=df['Class']\n",
    "X=df.drop(columns=['Class'])\n",
    "# partition data between train+test and validation, using stratification for unbalanced cases and seed for reproducibility.\n",
    "X_train, X_validate, y_train, y_validate = train_test_split(X, y, test_size=finalValidationPercent,random_state=randomSeed,stratify=y) "
   ]
  },
  {
   "cell_type": "code",
   "execution_count": 669,
   "metadata": {},
   "outputs": [
    {
     "name": "stdout",
     "output_type": "stream",
     "text": [
      "Elapsed time to compute model and metrics: 1.459 seconds\n",
      "Iteration number for best matthews_corrcoef : 7\n",
      "\n",
      "Parameters for model with best matthews_corrcoef from possible values:\n",
      " {'criterion': ['entropy'], 'max_depth': [10, 20, 50, 100, 250], 'max_leaf_nodes': [10, 50, 250, 1000, 2500, 10000]} :\n",
      "\n",
      "criterion value: entropy\n",
      "max_depth value: 20.0\n",
      "max_leaf_nodes value: 50.0\n",
      "\n",
      "Metrics for model with best matthews_corrcoef  from set of ['accuracy', 'precision', 'recall', 'matthews_corrcoef', 'roc_auc'] :\n",
      "\n",
      "mean_test_accuracy value: 0.696\n",
      "mean_test_precision value: 0.766\n",
      "mean_test_recall value: 0.817\n",
      "mean_test_matthews_corrcoef value: 0.243\n",
      "mean_test_roc_auc value: 0.65\n",
      "\n",
      " matthews_corrcoef on validation set is 0.297 to be compared with test matthews_corrcoef of 0.243 , a 22.2 percent difference\n"
     ]
    }
   ],
   "source": [
    "# Simple decision tree\n",
    "regr=DecisionTreeClassifier(random_state=randomSeed)\n",
    "\n",
    "start_time=time.time()\n",
    "cv=GridSearchCV(estimator=regr,param_grid=dtParams,scoring=scoring,verbose=verbose,error_score='raise',refit=mainMetric)\n",
    "cv.fit(X_train, y_train)\n",
    "elapsed_time = time.time() - start_time\n",
    "\n",
    "print(f\"Elapsed time to compute model and metrics: {elapsed_time:.3f} seconds\")\n",
    "allResults['DecisionTreeClassifier']={}\n",
    "allResults['DecisionTreeClassifier']['testAndValidMetric']=modelSearchResults(cv,mainMetric,dtParams,scoring)\n",
    "allResults['DecisionTreeClassifier']['modelingTime']=elapsed_time\n",
    "allResults['DecisionTreeClassifier']['bestEstimator']=bestEstimator"
   ]
  },
  {
   "cell_type": "markdown",
   "metadata": {},
   "source": [
    "### After you've built the best model you can, now it's time to visualize it!"
   ]
  },
  {
   "cell_type": "code",
   "execution_count": 670,
   "metadata": {},
   "outputs": [],
   "source": [
    "#! pip install dtreeviz - Done from conda prompt"
   ]
  },
  {
   "cell_type": "markdown",
   "metadata": {},
   "source": [
    "If for any reason this way of installing doesn't work for you straight out of the box, please refer to the more detailed documentation here: https://github.com/parrt/dtreeviz"
   ]
  },
  {
   "cell_type": "code",
   "execution_count": 671,
   "metadata": {},
   "outputs": [],
   "source": [
    "from sklearn.datasets import *\n",
    "from sklearn import tree\n",
    "from dtreeviz.trees import *\n",
    "\n",
    "classifier = tree.DecisionTreeClassifier() #max_depth=5\n",
    "classifier.fit(X_train, y_train)\n",
    "\n",
    "if doViz==1:\n",
    "    viz = dtreeviz(classifier,  X_train,  y_train, target_name='Class', feature_names=df.columns)  \n",
    "    viz.view()"
   ]
  },
  {
   "cell_type": "markdown",
   "metadata": {},
   "source": [
    "## Random Forests\n",
    "https://link.springer.com/content/pdf/10.1023%2FA%3A1010933404324.pdf."
   ]
  },
  {
   "cell_type": "code",
   "execution_count": 672,
   "metadata": {},
   "outputs": [
    {
     "name": "stdout",
     "output_type": "stream",
     "text": [
      "Elapsed time to compute model and metrics: 68.958 seconds\n",
      "Iteration number for best matthews_corrcoef : 17\n",
      "\n",
      "Parameters for model with best matthews_corrcoef from possible values:\n",
      " {'n_estimators': [100, 200], 'criterion': ['entropy'], 'max_depth': [10, 20, 50, 100, 250], 'max_leaf_nodes': [10, 50, 250, 1000, 2500, 10000]} :\n",
      "\n",
      "n_estimators value: 200.0\n",
      "criterion value: entropy\n",
      "max_depth value: 20.0\n",
      "max_leaf_nodes value: 250.0\n",
      "\n",
      "Metrics for model with best matthews_corrcoef  from set of ['accuracy', 'precision', 'recall', 'matthews_corrcoef', 'roc_auc'] :\n",
      "\n",
      "mean_test_accuracy value: 0.747\n",
      "mean_test_precision value: 0.773\n",
      "mean_test_recall value: 0.903\n",
      "mean_test_matthews_corrcoef value: 0.341\n",
      "mean_test_roc_auc value: 0.763\n",
      "\n",
      " matthews_corrcoef on validation set is 0.316 to be compared with test matthews_corrcoef of 0.341 , a 7.3 percent difference\n"
     ]
    }
   ],
   "source": [
    "# random forest\n",
    "regr=RandomForestClassifier(random_state=randomSeed)\n",
    "\n",
    "start_time=time.time()\n",
    "cv=GridSearchCV(estimator=regr,param_grid=randomForestParameters,scoring=scoring,verbose=verbose,error_score='raise',refit=mainMetric)\n",
    "cv.fit(X_train, y_train)\n",
    "bestEstimator=cv.best_estimator_\n",
    "elapsed_time = time.time() - start_time\n",
    "\n",
    "print(f\"Elapsed time to compute model and metrics: {elapsed_time:.3f} seconds\")\n",
    "allResults['RandomForestClassifier']={}\n",
    "allResults['RandomForestClassifier']['testAndValidMetric']=modelSearchResults(cv,mainMetric,randomForestParameters,scoring)\n",
    "allResults['RandomForestClassifier']['modelingTime']=elapsed_time\n",
    "allResults['RandomForestClassifier']['bestEstimator']=bestEstimator\n"
   ]
  },
  {
   "cell_type": "code",
   "execution_count": 673,
   "metadata": {},
   "outputs": [],
   "source": [
    "# Feature importance thru Permutation - returns features that are below threshold for the selected metric\n",
    "def featurePermutation(cl, X, y, nRepeat, randomSeed, scoring,mainMetricPermTreshold):\n",
    "    start_time = time.time()\n",
    "    result = permutation_importance(cl, X, y, n_repeats=nRepeat, random_state=randomSeed, scoring=scoring)\n",
    "    elapsed_time = time.time() - start_time\n",
    "    print(f\"Elapsed time to compute the feature permutation importances: {elapsed_time:.3f} seconds\")\n",
    "    fig = plt.figure(figsize=(14,40))\n",
    "    for i in range(len(scoring)):\n",
    "        plt.subplot(len(scoring),1,i+1)\n",
    "        plt.subplots_adjust(hspace=1,wspace=0.3)\n",
    "        forest_importances = pd.Series(result[scoring[i]]['importances_mean'], index=X_train.columns)\n",
    "        plt.bar(X_train.columns, forest_importances, align=\"center\",yerr=result[scoring[i]].importances_std)\n",
    "        title=\"Feature importances using permutation for:\"+scoring[i]\n",
    "        plt.title(title)\n",
    "        plt.xticks(rotation='vertical')\n",
    "        plt.ylabel(\"Mean decrease\")\n",
    "        if scoring[i]==mainMetric:\n",
    "            set=[]\n",
    "            print(\"Features that are below the importance threshold\",mainMetricPermTreshold,\"for\",mainMetric)\n",
    "            count=0\n",
    "            total=0\n",
    "            for j in range(len(forest_importances)):\n",
    "                total=total+forest_importances[j]\n",
    "                if forest_importances[j] < mainMetricPermTreshold:\n",
    "                    print(forest_importances.index[j],forest_importances[j])\n",
    "                    set.append(forest_importances.index[j])\n",
    "                    count=count+1\n",
    "            print(\"Total feature decrease amounts to\",round(total,3))\n",
    "            print(\"A total of\",count,\"features fall below threshold, out of a total of\",len(forest_importances))\n",
    "    plt.show()\n",
    "    return set"
   ]
  },
  {
   "cell_type": "code",
   "execution_count": null,
   "metadata": {},
   "outputs": [],
   "source": [
    "# Random forest feature importance based on permutation\n",
    "\n",
    "permutationFeatureDrop['RandomForestClassifier']=featurePermutation(bestEstimator, X_train, y_train, 5, randomSeed, scoring,mainMetricPermTreshold)"
   ]
  },
  {
   "cell_type": "code",
   "execution_count": 675,
   "metadata": {},
   "outputs": [],
   "source": [
    "#! pip install pdpbox"
   ]
  },
  {
   "cell_type": "markdown",
   "metadata": {},
   "source": [
    "PDPbox (https://pdpbox.readthedocs.io/en/latest/) which adds this functionality to Random Forests\n",
    "While we encourage you to read the documentation for the package (and reading package documentation in general is a good habit to develop), the authors of the package have also written an excellent blog post on how to use it, showing examples on different algorithms from scikit-learn (the Random Forests example is towards the end of the blog post): https://briangriner.github.io/Partial_Dependence_Plots_presentation-BrianGriner-PrincetonPublicLibrary-4.14.18-updated-4.22.18.html"
   ]
  },
  {
   "cell_type": "markdown",
   "metadata": {},
   "source": [
    "So, armed with this new knowledge, feel free to pick a few features, and make a couple of Partial Dependence Plots of your own!"
   ]
  },
  {
   "cell_type": "code",
   "execution_count": 676,
   "metadata": {},
   "outputs": [],
   "source": [
    "# Could not install pdpbox, running into circular dependencies for the 'wheel' component. \n",
    "#Looks like it hasn't been updated in a few years, so probably not very popular."
   ]
  },
  {
   "cell_type": "markdown",
   "metadata": {},
   "source": [
    "## (Optional) Advanced Boosting-Based Algorithms"
   ]
  },
  {
   "cell_type": "markdown",
   "metadata": {},
   "source": [
    "Still, in recent years, a number of variations on GBMs have been developed by different research amd industry groups, all of them bringing improvements, both in speed, accuracy and functionality to the original Gradient Boosting algorithms.\n",
    "\n",
    "In no order of preference, these are:\n",
    "1. **XGBoost**: https://xgboost.readthedocs.io/en/latest/\n",
    "2. **CatBoost**: https://tech.yandex.com/catboost/\n",
    "3. **LightGBM**: https://lightgbm.readthedocs.io/en/latest/"
   ]
  },
  {
   "cell_type": "markdown",
   "metadata": {},
   "source": [
    "If you're using the Anaconda distribution, these are all very easy to install:"
   ]
  },
  {
   "cell_type": "code",
   "execution_count": 677,
   "metadata": {},
   "outputs": [],
   "source": [
    "#! conda install -c anaconda py-xgboost\n",
    "#! conda install -c conda-forge catboost\n",
    "#! conda install -c conda-forge lightgbm"
   ]
  },
  {
   "cell_type": "code",
   "execution_count": null,
   "metadata": {},
   "outputs": [],
   "source": [
    "#Let's do same with catBoost\n",
    "regr=CatBoostClassifier(random_state=randomSeed)\n",
    "\n",
    "start_time=time.time()\n",
    "cv=GridSearchCV(estimator=regr,param_grid=catBoostParameters,scoring=scoring,verbose=verbose,error_score='raise',refit=mainMetric)\n",
    "cv.fit(X_train, y_train)\n",
    "bestEstimator=cv.best_estimator_\n",
    "elapsed_time = time.time() - start_time\n",
    "\n",
    "print(f\"Elapsed time to compute model and metrics: {elapsed_time:.3f} seconds\")\n",
    "allResults['CatBoostClassifier']={}\n",
    "allResults['CatBoostClassifier']['testAndValidMetric']=modelSearchResults(cv,mainMetric,catBoostParameters,scoring)\n",
    "allResults['CatBoostClassifier']['modelingTime']=elapsed_time\n",
    "allResults['CatBoostClassifier']['bestEstimator']=bestEstimator\n",
    "\n",
    "permutationFeatureDrop['CatBoostClassifier']=featurePermutation(bestEstimator, X_train, y_train, 5, randomSeed, scoring,mainMetricPermTreshold)"
   ]
  },
  {
   "cell_type": "code",
   "execution_count": null,
   "metadata": {},
   "outputs": [],
   "source": [
    "# Display best model main metric values (test/validation) and processing time for chosen metric\n",
    "print('For main metric',mainMetric,'test/train set, validation set, timeToProcess (min):\\n')\n",
    "for key in allResults:\n",
    "    print(key,allResults[key]['testAndValidMetric'][0],allResults[key]['testAndValidMetric'][1],round(allResults[key]['modelingTime']/60.0,2))"
   ]
  },
  {
   "cell_type": "code",
   "execution_count": 680,
   "metadata": {
    "scrolled": true
   },
   "outputs": [
    {
     "name": "stdout",
     "output_type": "stream",
     "text": [
      "For RandomForestClassifier , number of features to drop is 55\n",
      "For CatBoostClassifier , number of features to drop is 35\n",
      "We are dropping 35 shared features:\n",
      " {'OtherInstallmentPlans.None', 'OtherDebtorsGuarantors.CoApplicant', 'SavingsAccountBonds.100.to.500', 'EmploymentDuration.Unemployed', 'Purpose.Other', 'OtherInstallmentPlans.Stores', 'CreditHistory.PaidDuly', 'Job.SkilledEmployee', 'Purpose.DomesticAppliance', 'EmploymentDuration.gt.7', 'Purpose.Retraining', 'Purpose.Furniture.Equipment', 'Personal.Male.Married.Widowed', 'Personal.Female.Single', 'Purpose.Vacation', 'EmploymentDuration.lt.1', 'Housing.Rent', 'NumberPeopleMaintenance', 'Purpose.Repairs', 'ForeignWorker', 'Purpose.Business', 'Personal.Male.Divorced.Seperated', 'Job.UnemployedUnskilled', 'Housing.ForFree', 'CheckingAccountStatus.gt.200', 'OtherDebtorsGuarantors.None', 'SavingsAccountBonds.500.to.1000', 'SavingsAccountBonds.gt.1000', 'CheckingAccountStatus.0.to.200', 'CreditHistory.ThisBank.AllPaid', 'CreditHistory.Delay', 'OtherInstallmentPlans.Bank', 'Purpose.Education', 'Purpose.Radio.Television', 'Housing.Own'}\n"
     ]
    }
   ],
   "source": [
    "# Select the set of features to be drop as the intersection of all model featureToDrop sets\n",
    "p=[]\n",
    "i=0\n",
    "for key in permutationFeatureDrop:\n",
    "    print(\"For\",key,\", number of features to drop is\",len(permutationFeatureDrop[key]))\n",
    "    p.append(permutationFeatureDrop[key])\n",
    "    i+=1\n",
    "#let's drop to-trop features intersection of all models\n",
    "featuresToDrop = set(p[0])\n",
    "for s in p[1:]:\n",
    "    featuresToDrop.intersection_update(s)\n",
    "print (\"We are dropping\",len(featuresToDrop),\"shared features:\\n\",featuresToDrop)"
   ]
  },
  {
   "cell_type": "code",
   "execution_count": 681,
   "metadata": {},
   "outputs": [
    {
     "data": {
      "text/plain": [
       "(750, 26)"
      ]
     },
     "execution_count": 681,
     "metadata": {},
     "output_type": "execute_result"
    }
   ],
   "source": [
    "#let's drop these features and recompute metrics, to check that they don't suffer with fewer features.\n",
    "X_train.drop(columns=featuresToDrop, inplace=True)\n",
    "X_validate.drop(columns=featuresToDrop, inplace=True)\n",
    "y_train.drop(columns=featuresToDrop, inplace=True)\n",
    "y_validate.drop(columns=featuresToDrop, inplace=True)\n",
    "X_train.shape"
   ]
  },
  {
   "cell_type": "code",
   "execution_count": null,
   "metadata": {},
   "outputs": [],
   "source": [
    "#re-run catBoost with fewer columns\n",
    "regr=CatBoostClassifier(random_state=randomSeed)\n",
    "\n",
    "start_time=time.time()\n",
    "cv=GridSearchCV(estimator=regr,param_grid=catBoostParameters,scoring=scoring,verbose=verbose,error_score='raise',refit=mainMetric)\n",
    "cv.fit(X_train, y_train)\n",
    "bestEstimator=cv.best_estimator_\n",
    "elapsed_time = time.time() - start_time\n",
    "\n",
    "print(f\"Elapsed time to compute model and metrics: {elapsed_time:.3f} seconds\")\n",
    "allResults['CatBoostClassifier']={}\n",
    "allResults['CatBoostClassifier']['testAndValidMetric']=modelSearchResults(cv,mainMetric,catBoostParameters,scoring)\n",
    "allResults['CatBoostClassifier']['modelingTime']=elapsed_time\n",
    "allResults['CatBoostClassifier']['bestEstimator']=bestEstimator\n",
    "\n",
    "permutationFeatureDrop['CatBoostClassifier']=featurePermutation(bestEstimator, X_train, y_train, 5, randomSeed, scoring,mainMetricPermTreshold)\n",
    "\n"
   ]
  },
  {
   "cell_type": "code",
   "execution_count": 684,
   "metadata": {},
   "outputs": [
    {
     "name": "stdout",
     "output_type": "stream",
     "text": [
      "Elapsed time to compute model and metrics: 75.758 seconds\n",
      "Iteration number for best matthews_corrcoef : 29\n",
      "\n",
      "Parameters for model with best matthews_corrcoef from possible values:\n",
      " {'n_estimators': [100, 200], 'criterion': ['entropy'], 'max_depth': [10, 20, 50, 100, 250], 'max_leaf_nodes': [10, 50, 250, 1000, 2500, 10000]} :\n",
      "\n",
      "n_estimators value: 200.0\n",
      "criterion value: entropy\n",
      "max_depth value: 50.0\n",
      "max_leaf_nodes value: 250.0\n",
      "\n",
      "Metrics for model with best matthews_corrcoef  from set of ['accuracy', 'precision', 'recall', 'matthews_corrcoef', 'roc_auc'] :\n",
      "\n",
      "mean_test_accuracy value: 0.748\n",
      "mean_test_precision value: 0.777\n",
      "mean_test_recall value: 0.899\n",
      "mean_test_matthews_corrcoef value: 0.346\n",
      "mean_test_roc_auc value: 0.769\n",
      "\n",
      " matthews_corrcoef on validation set is 0.339 to be compared with test matthews_corrcoef of 0.346 , a 2.0 percent difference\n"
     ]
    }
   ],
   "source": [
    "#re-run random forest with fewer columns\n",
    "regr=RandomForestClassifier(random_state=randomSeed)\n",
    "\n",
    "start_time=time.time()\n",
    "cv=GridSearchCV(estimator=regr,param_grid=randomForestParameters,scoring=scoring,verbose=verbose,error_score='raise',refit=mainMetric)\n",
    "cv.fit(X_train, y_train)\n",
    "bestEstimator=cv.best_estimator_\n",
    "elapsed_time = time.time() - start_time\n",
    "\n",
    "print(f\"Elapsed time to compute model and metrics: {elapsed_time:.3f} seconds\")\n",
    "allResults['RandomForestClassifier']={}\n",
    "allResults['RandomForestClassifier']['testAndValidMetric']=modelSearchResults(cv,mainMetric,randomForestParameters,scoring)\n",
    "allResults['RandomForestClassifier']['modelingTime']=elapsed_time\n",
    "allResults['RandomForestClassifier']['bestEstimator']=bestEstimator"
   ]
  },
  {
   "cell_type": "code",
   "execution_count": 685,
   "metadata": {},
   "outputs": [
    {
     "name": "stdout",
     "output_type": "stream",
     "text": [
      "For main metric matthews_corrcoef test/train set, validation set, timeToProcess (min):\n",
      "\n",
      "DecisionTreeClassifier 0.243 0.297 0.02\n",
      "RandomForestClassifier 0.346 0.339 1.26\n",
      "CatBoostClassifier 0.367 0.417 3.19\n"
     ]
    }
   ],
   "source": [
    "print('For main metric',mainMetric,'test/train set, validation set, timeToProcess (min):\\n')\n",
    "for key in allResults:\n",
    "    print(key,allResults[key]['testAndValidMetric'][0],allResults[key]['testAndValidMetric'][1],round(allResults[key]['modelingTime']/60.0,2))"
   ]
  },
  {
   "cell_type": "raw",
   "metadata": {},
   "source": [
    "Added by hand after running the above:\n",
    "\n",
    "For main metric matthews_corrcoef test/train set, validation set, timeToProcess (min):\n",
    "\n",
    "DecisionTreeClassifier 0.243 0.297 0.03\n",
    "\n",
    "RandomForestClassifier 0.341 0.316 1.22 -> note the validation value Lower than the train/test\n",
    "n_estimators value: 200.0\n",
    "criterion value: entropy\n",
    "max_depth value: 20.0\n",
    "max_leaf_nodes value: 250.0\n",
    "\n",
    "CatBoostClassifier 0.41 0.398 2.81 -> note the validation value Lower than the train/test\n",
    "depth value: 6.0\n",
    "iterations value: 350.0\n",
    "learning_rate value: 0.03\n",
    "\n",
    "After removing 35 features:\n",
    "\n",
    "RandomForestClassifier 0.346 0.339 1.26 -> note the validation value Lower than the train/test but Higher than all features.\n",
    "n_estimators value: 200.0\n",
    "criterion value: entropy\n",
    "max_depth value: 50.0\n",
    "max_leaf_nodes value: 250.0\n",
    "\n",
    "CatBoostClassifier 0.367 0.417 3.19 -> note the validation value Higher than the train/test and Higher than all features\n",
    "depth value: 6.0\n",
    "iterations value: 350.0\n",
    "learning_rate value: 0.04\n",
    "\n"
   ]
  }
 ],
 "metadata": {
  "kernelspec": {
   "display_name": "Python 3 (ipykernel)",
   "language": "python",
   "name": "python3"
  },
  "language_info": {
   "codemirror_mode": {
    "name": "ipython",
    "version": 3
   },
   "file_extension": ".py",
   "mimetype": "text/x-python",
   "name": "python",
   "nbconvert_exporter": "python",
   "pygments_lexer": "ipython3",
   "version": "3.9.12"
  }
 },
 "nbformat": 4,
 "nbformat_minor": 2
}
